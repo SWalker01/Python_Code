{
 "cells": [
  {
   "cell_type": "code",
   "execution_count": 1,
   "metadata": {},
   "outputs": [],
   "source": [
    "# Recognise Faces using some classification algorithm - like Logistic, KNN, SVM etc.\n",
    "\n",
    "\n",
    "# 1. load the training data (numpy arrays of all the persons)\n",
    "        # x- values are stored in the numpy arrays\n",
    "        # y-values we need to assign for each person\n",
    "# 2. Read a video stream using opencv\n",
    "# 3. extract faces out of it\n",
    "# 4. use knn to find the prediction of face (int)\n",
    "# 5. map the predicted id to name of the user \n",
    "# 6. Display the predictions on the screen - bounding box and name"
   ]
  },
  {
   "cell_type": "code",
   "execution_count": 2,
   "metadata": {},
   "outputs": [],
   "source": [
    "import cv2\n",
    "import numpy as np\n",
    "import os"
   ]
  },
  {
   "cell_type": "code",
   "execution_count": null,
   "metadata": {},
   "outputs": [],
   "source": [
    "######### KNN CODE ########\n",
    "def distance(v1,v2):\n",
    "    #Eucliean\n",
    "    return np.sqrt(((v1-v2)**2).sum())\n",
    "\n",
    "\n",
    "def kkn(train,test,k=5):\n",
    "    dist=[]\n",
    "    \n",
    "    \n",
    "    for i in range(train.shape[0]):\n",
    "        #Get the vector and label\n",
    "        ix = train[i, :-1]\n",
    "        iy = train[i, :-1]\n",
    "        #Complete the distance and get top k"
   ]
  }
 ],
 "metadata": {
  "kernelspec": {
   "display_name": "Python 3",
   "language": "python",
   "name": "python3"
  },
  "language_info": {
   "codemirror_mode": {
    "name": "ipython",
    "version": 3
   },
   "file_extension": ".py",
   "mimetype": "text/x-python",
   "name": "python",
   "nbconvert_exporter": "python",
   "pygments_lexer": "ipython3",
   "version": "3.8.3"
  }
 },
 "nbformat": 4,
 "nbformat_minor": 4
}
