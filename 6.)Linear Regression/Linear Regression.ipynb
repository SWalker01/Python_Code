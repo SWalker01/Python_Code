{
 "cells": [
  {
   "cell_type": "code",
   "execution_count": 4,
   "metadata": {},
   "outputs": [],
   "source": [
    "import pandas as pd\n",
    "import numpy as np\n",
    "import matplotlib.pyplot as plt"
   ]
  },
  {
   "cell_type": "code",
   "execution_count": 5,
   "metadata": {},
   "outputs": [
    {
     "data": {
      "text/plain": [
       "(3750, 1)"
      ]
     },
     "execution_count": 5,
     "metadata": {},
     "output_type": "execute_result"
    }
   ],
   "source": [
    "X_train=pd.read_csv(\"./Linear_X_Train.csv\").values\n",
    "y_train=pd.read_csv(\"./Linear_Y_Train.csv\").values\n",
    "X_train.shape\n",
    "# y_train.shape"
   ]
  },
  {
   "cell_type": "code",
   "execution_count": 11,
   "metadata": {},
   "outputs": [
    {
     "data": {
      "image/png": "[encoded data removed]",
      "text/plain": [
       "<Figure size 432x288 with 1 Axes>"
      ]
     },
     "metadata": {
      "needs_background": "light"
     },
     "output_type": "display_data"
    }
   ],
   "source": [
    "plt.scatter(X_train, y_train, color='orange')\n",
    "plt.xlabel(\"hardwork\")\n",
    "plt.ylabel(\"marks\")\n",
    "plt.show()\n"
   ]
  },
  {
   "cell_type": "markdown",
   "metadata": {},
   "source": [
    "# Preprocess -Col. Standardiazation\n",
    "- makes G.D. Works faster (converge)"
   ]
  },
  {
   "cell_type": "code",
   "execution_count": 12,
   "metadata": {},
   "outputs": [],
   "source": [
    "mu=X_train.mean()\n",
    "sigma=X_train.std()"
   ]
  },
  {
   "cell_type": "code",
   "execution_count": 13,
   "metadata": {},
   "outputs": [
    {
     "data": {
      "text/plain": [
       "-0.03779466168006855"
      ]
     },
     "execution_count": 13,
     "metadata": {},
     "output_type": "execute_result"
    }
   ],
   "source": [
    "mu #this data is already col standarize but we have to whenever have diff data"
   ]
  },
  {
   "cell_type": "code",
   "execution_count": 14,
   "metadata": {},
   "outputs": [],
   "source": [
    "sig=sigma"
   ]
  },
  {
   "cell_type": "code",
   "execution_count": 15,
   "metadata": {},
   "outputs": [
    {
     "data": {
      "text/plain": [
       "0.9920801322508517"
      ]
     },
     "execution_count": 15,
     "metadata": {},
     "output_type": "execute_result"
    }
   ],
   "source": [
    "sig"
   ]
  },
  {
   "cell_type": "code",
   "execution_count": 16,
   "metadata": {},
   "outputs": [],
   "source": [
    "X_train = (X_train - mu)/ sig"
   ]
  },
  {
   "cell_type": "markdown",
   "metadata": {},
   "source": [
    "# Linear Regression"
   ]
  },
  {
   "cell_type": "code",
   "execution_count": 25,
   "metadata": {},
   "outputs": [],
   "source": [
    "def hypothesis(x, theta): #we can too pass diff way theta 1,2 but if n then ?\n",
    "    #so we take it as a vector \n",
    "    \"\"\"\n",
    "    theta : np array (2,1)\n",
    "    x : scaler \n",
    "    \n",
    "    return : prediction given input(x)\n",
    "    \"\"\"\n",
    "    return theta[0] + theta[1]*x  #y_pred=theta[0] + theta[1]*x we can do this var for return too\n"
   ]
  },
  {
   "cell_type": "code",
   "execution_count": 26,
   "metadata": {},
   "outputs": [
    {
     "data": {
      "text/plain": [
       "list"
      ]
     },
     "execution_count": 26,
     "metadata": {},
     "output_type": "execute_result"
    }
   ],
   "source": [
    "t=[2,0]\n",
    "type(t)"
   ]
  },
  {
   "cell_type": "code",
   "execution_count": 27,
   "metadata": {},
   "outputs": [],
   "source": [
    "#https://www.oreilly.com/library/view/machine-learning-with/9781491989371/ch01.html"
   ]
  },
  {
   "cell_type": "code",
   "execution_count": 28,
   "metadata": {},
   "outputs": [],
   "source": [
    "x=7.8"
   ]
  },
  {
   "cell_type": "code",
   "execution_count": 29,
   "metadata": {},
   "outputs": [
    {
     "data": {
      "text/plain": [
       "2.0"
      ]
     },
     "execution_count": 29,
     "metadata": {},
     "output_type": "execute_result"
    }
   ],
   "source": [
    "hypothesis(x,t)"
   ]
  },
  {
   "cell_type": "code",
   "execution_count": 30,
   "metadata": {},
   "outputs": [],
   "source": [
    "def error(X, Y, theta):\n",
    "    \"\"\"\n",
    "    X - (3750, 1) \n",
    "    Y - (3750, 1) \n",
    "    theta - (2,1)\n",
    "    \n",
    "    return : total error for any hypothesis\n",
    "    \"\"\"\n",
    "    \n",
    "    m = X.shape[0]\n",
    "    total_err = 0.0\n",
    "    \n",
    "    for i in range(m):\n",
    "        yhat_i = hypothesis(X[i], theta)\n",
    "        yi = Y[i]\n",
    "        total_err += (yhat_i - yi)**2\n",
    "    \n",
    "    return total_err/m\n"
   ]
  },
  {
   "cell_type": "code",
   "execution_count": 31,
   "metadata": {},
   "outputs": [],
   "source": [
    "def gradient(X, Y, theta):\n",
    "    \"\"\"\n",
    "    X - (3750, 1) \n",
    "    Y - (3750, 1) \n",
    "    theta - (2,1)\n",
    "    \n",
    "    return : np array gradient (2,1)\n",
    "    \"\"\"\n",
    "    m  = X.shape[0]\n",
    "    \n",
    "    grad = np.zeros(2) # or we can np.array([0,0]) (2,)\n",
    "    \n",
    "    for i in range(m):\n",
    "        yhat_i = hypothesis(X[i], theta)\n",
    "        yi = Y[i]\n",
    "        grad[0] += (yhat_i - yi)\n",
    "        grad[1] += (yhat_i - yi)*X[i]\n",
    "        \n",
    "    return grad/m\n"
   ]
  },
  {
   "cell_type": "code",
   "execution_count": 32,
   "metadata": {},
   "outputs": [],
   "source": [
    "#this is our main function that is calling\n",
    "#that calls gradient and error\n",
    "def gradient_descent(X, Y, lr =0.1, max_itr = 100):\n",
    "    \"\"\"\n",
    "    parameters: \n",
    "        X - (3750, 1) \n",
    "        Y - (3750, 1) \n",
    "        lr - learning rate\n",
    "        max_itr  - maximum iteration\n",
    "    \n",
    "    ----------------------------------\n",
    "    \n",
    "    return : \n",
    "        theta vector (2,1)\n",
    "        error_list  \n",
    "    \"\"\"\n",
    "    \n",
    "    \n",
    "    theta = np.zeros(2,) #we can intialize it with zeros or \n",
    "    #any random value np.random.randn(2,)\n",
    "    \n",
    "    error_list = []\n",
    "    \n",
    "    for i in range(max_itr):\n",
    "        \n",
    "        err = error(X, Y, theta)\n",
    "        error_list.append(err[0]) # append this error to error list so we can plot\n",
    "        \n",
    "        grad = gradient(X, Y, theta)\n",
    "        \n",
    "        # Updation Rule\n",
    "        theta[0]  = theta[0] - lr*grad[0]\n",
    "        theta[1] = theta[1]  - lr*grad[1]\n",
    "        \n",
    "    return (theta, error_list)"
   ]
  },
  {
   "cell_type": "code",
   "execution_count": 33,
   "metadata": {},
   "outputs": [
    {
     "data": {
      "text/plain": [
       "array([0.60013003, 1.02129798])"
      ]
     },
     "execution_count": 33,
     "metadata": {},
     "output_type": "execute_result"
    }
   ],
   "source": [
    "np.random.randn(2,)"
   ]
  },
  {
   "cell_type": "code",
   "execution_count": 34,
   "metadata": {},
   "outputs": [
    {
     "data": {
      "text/plain": [
       "array([0., 0.])"
      ]
     },
     "execution_count": 34,
     "metadata": {},
     "output_type": "execute_result"
    }
   ],
   "source": [
    "np.zeros(2,)"
   ]
  },
  {
   "cell_type": "code",
   "execution_count": 35,
   "metadata": {},
   "outputs": [],
   "source": [
    "(opt_theta, error_list) = gradient_descent(X_train, y_train)\n",
    "#it will return optimum theta that converge and error with that theta "
   ]
  },
  {
   "cell_type": "code",
   "execution_count": 36,
   "metadata": {},
   "outputs": [
    {
     "data": {
      "text/plain": [
       "array([ 0.6838508 , 79.90361453])"
      ]
     },
     "execution_count": 36,
     "metadata": {},
     "output_type": "execute_result"
    }
   ],
   "source": [
    "opt_theta\n",
    "#here theta1 is 0.68... and theta2 id 79..."
   ]
  },
  {
   "cell_type": "code",
   "execution_count": 37,
   "metadata": {},
   "outputs": [
    {
     "data": {
      "text/plain": [
       "[6576.35005246196,\n",
       " 5363.125102574931,\n",
       " 4380.412893166487,\n",
       " 3584.4160035456366,\n",
       " 2939.658522952752,\n",
       " 2417.404963672508,\n",
       " 1994.3795806555281,\n",
       " 1651.7290204117544,\n",
       " 1374.1820666143055,\n",
       " 1149.3690340383696,\n",
       " 967.2704776518652,\n",
       " 819.770646978796,\n",
       " 700.2957841336078,\n",
       " 603.5211452290067,\n",
       " 525.1336877162773,\n",
       " 461.6398471309694,\n",
       " 410.20983625687,\n",
       " 368.55152744884856,\n",
       " 334.80829731435097,\n",
       " 307.47628090540843,\n",
       " 285.33734761416457,\n",
       " 267.4048116482566,\n",
       " 252.87945751587242,\n",
       " 241.11392066864,\n",
       " 231.5838358223823,\n",
       " 223.86446709691373,\n",
       " 217.61177842928484,\n",
       " 212.54710060850397,\n",
       " 208.4447115736724,\n",
       " 205.1217764554589,\n",
       " 202.43019900970543,\n",
       " 200.25002127864602,\n",
       " 198.48407731648712,\n",
       " 197.05366270713802,\n",
       " 195.8950268735658,\n",
       " 194.95653184837263,\n",
       " 194.19635087796493,\n",
       " 193.58060429193594,\n",
       " 193.08184955725244,\n",
       " 192.67785822215873,\n",
       " 192.35062524073192,\n",
       " 192.08556652577707,\n",
       " 191.87086896666273,\n",
       " 191.69696394378104,\n",
       " 191.55610087524585,\n",
       " 191.4420017897342,\n",
       " 191.34958153046787,\n",
       " 191.2747211204641,\n",
       " 191.21408418835912,\n",
       " 191.16496827335493,\n",
       " 191.12518438220116,\n",
       " 191.09295943036707,\n",
       " 191.06685721938175,\n",
       " 191.04571442848274,\n",
       " 191.02858876785533,\n",
       " 191.01471698274722,\n",
       " 191.00348083680868,\n",
       " 190.99437955859895,\n",
       " 190.98700752324964,\n",
       " 190.9810361746153,\n",
       " 190.97619938222232,\n",
       " 190.9722815803843,\n",
       " 190.96910816089553,\n",
       " 190.9665376911093,\n",
       " 190.96445561058232,\n",
       " 190.9627691253558,\n",
       " 190.9614030723223,\n",
       " 190.9602965693647,\n",
       " 190.95940030196982,\n",
       " 190.95867432537915,\n",
       " 190.9580862843408,\n",
       " 190.95760997109994,\n",
       " 190.95722415737512,\n",
       " 190.95691164825783,\n",
       " 190.95665851587307,\n",
       " 190.9564534786412,\n",
       " 190.95628739848314,\n",
       " 190.95615287355545,\n",
       " 190.95604390836414,\n",
       " 190.95595564655886,\n",
       " 190.95588415449666,\n",
       " 190.95582624592575,\n",
       " 190.9557793399843,\n",
       " 190.95574134617098,\n",
       " 190.95571057118218,\n",
       " 190.95568564344168,\n",
       " 190.95566545197224,\n",
       " 190.95564909688107,\n",
       " 190.9556358492579,\n",
       " 190.95562511868232,\n",
       " 190.95561642691717,\n",
       " 190.95560938658627,\n",
       " 190.9556036839193,\n",
       " 190.95559906475864,\n",
       " 190.95559532323833,\n",
       " 190.95559229260724,\n",
       " 190.95558983779603,\n",
       " 190.95558784939806,\n",
       " 190.95558623879643,\n",
       " 190.95558493420947]"
      ]
     },
     "execution_count": 37,
     "metadata": {},
     "output_type": "execute_result"
    }
   ],
   "source": [
    "error_list"
   ]
  },
  {
   "cell_type": "code",
   "execution_count": 38,
   "metadata": {},
   "outputs": [
    {
     "data": {
      "text/plain": [
       "[190.95559229260724,\n",
       " 190.95558983779603,\n",
       " 190.95558784939806,\n",
       " 190.95558623879643,\n",
       " 190.95558493420947]"
      ]
     },
     "execution_count": 38,
     "metadata": {},
     "output_type": "execute_result"
    }
   ],
   "source": [
    "error_list[-5:]"
   ]
  },
  {
   "cell_type": "code",
   "execution_count": 39,
   "metadata": {},
   "outputs": [
    {
     "data": {
      "text/plain": [
       "[<matplotlib.lines.Line2D at 0x1d81a3a56d0>]"
      ]
     },
     "execution_count": 39,
     "metadata": {},
     "output_type": "execute_result"
    },
    {
     "data": {
      "image/png": "[encoded data removed]",
      "text/plain": [
       "<Figure size 432x288 with 1 Axes>"
      ]
     },
     "metadata": {
      "needs_background": "light"
     },
     "output_type": "display_data"
    }
   ],
   "source": [
    "plt.plot(error_list) # increase itr or lr \n",
    "#increase lr from 0.01 to 0.1 10% so it get nearlly converge \n",
    "#as we can make only one line and this cant happen that \n",
    "#all pts lie in that when we plot scatter graph  "
   ]
  },
  {
   "cell_type": "code",
   "execution_count": 40,
   "metadata": {},
   "outputs": [
    {
     "data": {
      "text/plain": [
       "Text(0, 0.5, 'error')"
      ]
     },
     "execution_count": 40,
     "metadata": {},
     "output_type": "execute_result"
    },
    {
     "data": {
      "image/png": "[encoded data removed]",
      "text/plain": [
       "<Figure size 432x288 with 1 Axes>"
      ]
     },
     "metadata": {
      "needs_background": "light"
     },
     "output_type": "display_data"
    }
   ],
   "source": [
    "plt.plot(error_list)\n",
    "plt.xlabel(\"iterations\")\n",
    "plt.ylabel(\"error\")"
   ]
  },
  {
   "cell_type": "code",
   "execution_count": 41,
   "metadata": {},
   "outputs": [
    {
     "data": {
      "image/png": "[encoded data removed]",
      "text/plain": [
       "<Figure size 432x288 with 1 Axes>"
      ]
     },
     "metadata": {
      "needs_background": "light"
     },
     "output_type": "display_data"
    }
   ],
   "source": [
    "plt.scatter(X_train, y_train)\n",
    "plt.plot(X_train,hypothesis(X_train, opt_theta), color='orange', label=\"Hypothesis\")\n",
    "#opt theta is theta that is nearer to converge pt\n",
    "plt.legend()\n",
    "plt.show()\n",
    "#basically we ghave predicted  y for training data "
   ]
  },
  {
   "cell_type": "code",
   "execution_count": 42,
   "metadata": {},
   "outputs": [],
   "source": [
    "X_test  = pd.read_csv(\"./Linear_X_Test.csv\").values\n"
   ]
  },
  {
   "cell_type": "code",
   "execution_count": 43,
   "metadata": {},
   "outputs": [],
   "source": [
    "#col standardization but we use \n",
    "# mu and sig are same from training data\n",
    "X_test  = (X_test - mu ) / sig\n"
   ]
  },
  {
   "cell_type": "code",
   "execution_count": 44,
   "metadata": {},
   "outputs": [],
   "source": [
    "y_pred = hypothesis(X_test, opt_theta)\n"
   ]
  },
  {
   "cell_type": "code",
   "execution_count": 45,
   "metadata": {},
   "outputs": [],
   "source": [
    "df = pd.DataFrame(data=y_pred, columns=['y'])\n"
   ]
  },
  {
   "cell_type": "code",
   "execution_count": 46,
   "metadata": {},
   "outputs": [],
   "source": [
    "df.to_csv(\"y_pred.csv\", index=False)\n",
    "#to convert into csv"
   ]
  },
  {
   "cell_type": "markdown",
   "metadata": {},
   "source": [
    " # Evalution\n"
   ]
  },
  {
   "cell_type": "code",
   "execution_count": 47,
   "metadata": {},
   "outputs": [
    {
     "data": {
      "text/plain": [
       "0.683868968015588"
      ]
     },
     "execution_count": 47,
     "metadata": {},
     "output_type": "execute_result"
    }
   ],
   "source": [
    "y_train.mean()\n"
   ]
  },
  {
   "cell_type": "markdown",
   "metadata": {},
   "source": [
    "# R2 Score\n"
   ]
  },
  {
   "cell_type": "code",
   "execution_count": 48,
   "metadata": {},
   "outputs": [],
   "source": [
    "y_pred_on_train = hypothesis(X_train, opt_theta)\n",
    "#here we are calculating value of y for x and theta 1 and theta 2\n",
    "# and then chaecking the r2 score on ypredicted vs y actual(y_train)"
   ]
  },
  {
   "cell_type": "code",
   "execution_count": 49,
   "metadata": {},
   "outputs": [],
   "source": [
    "def r2_score(Y, Y_):\n",
    "    \"\"\"\n",
    "    calculate r2 score on y_hat and Y\n",
    "    \"\"\"\n",
    "    num = np.sum((Y - Y_)**2)\n",
    "    denom = np.sum( (Y - Y.mean() )**2 )\n",
    "    \n",
    "    score = 1 - (num/denom)\n",
    "    \n",
    "    return score"
   ]
  },
  {
   "cell_type": "code",
   "execution_count": 50,
   "metadata": {},
   "outputs": [
    {
     "data": {
      "text/plain": [
       "0.9709612226971643"
      ]
     },
     "execution_count": 50,
     "metadata": {},
     "output_type": "execute_result"
    }
   ],
   "source": [
    "r2_score(y_train, y_pred_on_train)\n"
   ]
  },
  {
   "cell_type": "markdown",
   "metadata": {},
   "source": [
    "# SKLEARN - Linear Regression"
   ]
  },
  {
   "cell_type": "code",
   "execution_count": 51,
   "metadata": {},
   "outputs": [],
   "source": [
    "# import \n",
    "from sklearn.linear_model import LinearRegression\n",
    "\n",
    "\n",
    "# object\n",
    "model = LinearRegression()"
   ]
  },
  {
   "cell_type": "code",
   "execution_count": 52,
   "metadata": {},
   "outputs": [
    {
     "data": {
      "text/plain": [
       "LinearRegression()"
      ]
     },
     "execution_count": 52,
     "metadata": {},
     "output_type": "execute_result"
    }
   ],
   "source": [
    "# training - > fit\n",
    "\n",
    "model.fit(X_train, y_train)"
   ]
  },
  {
   "cell_type": "code",
   "execution_count": 53,
   "metadata": {},
   "outputs": [
    {
     "data": {
      "text/plain": [
       "array([[360.25968521]])"
      ]
     },
     "execution_count": 53,
     "metadata": {},
     "output_type": "execute_result"
    }
   ],
   "source": [
    "model.predict([[4.5]])\n",
    "#it take 2d array for 1 val to find y "
   ]
  },
  {
   "cell_type": "code",
   "execution_count": 54,
   "metadata": {},
   "outputs": [],
   "source": [
    "y_pred = model.predict(X_test)\n"
   ]
  },
  {
   "cell_type": "code",
   "execution_count": 55,
   "metadata": {},
   "outputs": [
    {
     "data": {
      "text/plain": [
       "0.9709612233822353"
      ]
     },
     "execution_count": 55,
     "metadata": {},
     "output_type": "execute_result"
    }
   ],
   "source": [
    "model.score(X_train, y_train)\n",
    "# R2 xcore"
   ]
  },
  {
   "cell_type": "code",
   "execution_count": 56,
   "metadata": {},
   "outputs": [
    {
     "data": {
      "text/plain": [
       "array([0.68386897])"
      ]
     },
     "execution_count": 56,
     "metadata": {},
     "output_type": "execute_result"
    }
   ],
   "source": [
    "model.intercept_ # through sklearn\n"
   ]
  },
  {
   "cell_type": "code",
   "execution_count": 57,
   "metadata": {},
   "outputs": [
    {
     "data": {
      "text/plain": [
       "array([[79.90573694]])"
      ]
     },
     "execution_count": 57,
     "metadata": {},
     "output_type": "execute_result"
    }
   ],
   "source": [
    "model.coef_  # through sklearn"
   ]
  },
  {
   "cell_type": "code",
   "execution_count": 58,
   "metadata": {},
   "outputs": [
    {
     "data": {
      "text/plain": [
       "array([ 0.6838508 , 79.90361453])"
      ]
     },
     "execution_count": 58,
     "metadata": {},
     "output_type": "execute_result"
    }
   ],
   "source": [
    "opt_theta #through linear regression"
   ]
  },
  {
   "cell_type": "code",
   "execution_count": null,
   "metadata": {},
   "outputs": [],
   "source": []
  },
  {
   "cell_type": "code",
   "execution_count": null,
   "metadata": {},
   "outputs": [],
   "source": []
  }
 ],
 "metadata": {
  "kernelspec": {
   "display_name": "Python 3",
   "language": "python",
   "name": "python3"
  },
  "language_info": {
   "codemirror_mode": {
    "name": "ipython",
    "version": 3
   },
   "file_extension": ".py",
   "mimetype": "text/x-python",
   "name": "python",
   "nbconvert_exporter": "python",
   "pygments_lexer": "ipython3",
   "version": "3.8.3"
  }
 },
 "nbformat": 4,
 "nbformat_minor": 4
}
