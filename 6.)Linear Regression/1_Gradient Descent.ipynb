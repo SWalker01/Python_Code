{
 "cells": [
  {
   "cell_type": "code",
   "execution_count": 2,
   "metadata": {},
   "outputs": [],
   "source": [
    "import numpy as np\n",
    "import matplotlib.pyplot as plt"
   ]
  },
  {
   "cell_type": "code",
   "execution_count": 3,
   "metadata": {},
   "outputs": [],
   "source": [
    "X = np.arange(-10, 20, 1)\n",
    "#arange([start,] stop[, step,], dtype=None)\n",
    "\n",
    "#Return evenly spaced values within a given interval."
   ]
  },
  {
   "cell_type": "code",
   "execution_count": 4,
   "metadata": {},
   "outputs": [
    {
     "data": {
      "text/plain": [
       "array([-10,  -9,  -8,  -7,  -6,  -5,  -4,  -3,  -2,  -1,   0,   1,   2,\n",
       "         3,   4,   5,   6,   7,   8,   9,  10,  11,  12,  13,  14,  15,\n",
       "        16,  17,  18,  19])"
      ]
     },
     "execution_count": 4,
     "metadata": {},
     "output_type": "execute_result"
    }
   ],
   "source": [
    "X # X is theta "
   ]
  },
  {
   "cell_type": "code",
   "execution_count": 5,
   "metadata": {},
   "outputs": [],
   "source": [
    "err = (X-5)**2 # this sis error func or J(theta)"
   ]
  },
  {
   "cell_type": "code",
   "execution_count": 6,
   "metadata": {},
   "outputs": [
    {
     "data": {
      "text/plain": [
       "array([225, 196, 169, 144, 121, 100,  81,  64,  49,  36,  25,  16,   9,\n",
       "         4,   1,   0,   1,   4,   9,  16,  25,  36,  49,  64,  81, 100,\n",
       "       121, 144, 169, 196], dtype=int32)"
      ]
     },
     "execution_count": 6,
     "metadata": {},
     "output_type": "execute_result"
    }
   ],
   "source": [
    "err"
   ]
  },
  {
   "cell_type": "code",
   "execution_count": 7,
   "metadata": {},
   "outputs": [
    {
     "data": {
      "image/png": "[encoded data removed]",
      "text/plain": [
       "<Figure size 432x288 with 1 Axes>"
      ]
     },
     "metadata": {
      "needs_background": "light"
     },
     "output_type": "display_data"
    }
   ],
   "source": [
    "plt.plot(X,err)\n",
    "plt.xlabel(\"Theta Value\")\n",
    "plt.ylabel(\"error value\")\n",
    "plt.show()"
   ]
  },
  {
   "cell_type": "markdown",
   "metadata": {},
   "source": [
    "# Gradient Descent"
   ]
  },
  {
   "cell_type": "code",
   "execution_count": 8,
   "metadata": {},
   "outputs": [],
   "source": [
    "x = -8\n",
    "lr = 0.05\n",
    "\n",
    "error_list = []\n",
    "\n",
    "x_list = []\n",
    "\n",
    "for i in range(100):# number of itr we want to do\n",
    "    grad = 2*(x-5) #its find J or derivative of function wrt x\n",
    "    \n",
    "    # updation rule\n",
    "    x = x - lr * grad #here we are updating theta that is x\n",
    "    x_list.append(x)\n",
    "    e = (x-5)**2\n",
    "    error_list.append(e)"
   ]
  },
  {
   "cell_type": "code",
   "execution_count": 9,
   "metadata": {},
   "outputs": [
    {
     "data": {
      "text/plain": [
       "4.999654701814462"
      ]
     },
     "execution_count": 9,
     "metadata": {},
     "output_type": "execute_result"
    }
   ],
   "source": [
    "x"
   ]
  },
  {
   "cell_type": "code",
   "execution_count": 10,
   "metadata": {},
   "outputs": [
    {
     "data": {
      "text/plain": [
       "[136.89,\n",
       " 110.88090000000003,\n",
       " 89.813529,\n",
       " 72.74895848999999,\n",
       " 58.926656376900006,\n",
       " 47.730591665289,\n",
       " 38.66177924888409,\n",
       " 31.316041191596117,\n",
       " 25.365993365192853,\n",
       " 20.54645462580621,\n",
       " 16.64262824690303,\n",
       " 13.480528879991455,\n",
       " 10.919228392793078,\n",
       " 8.844574998162393,\n",
       " 7.164105748511538,\n",
       " 5.802925656294345,\n",
       " 4.70036978159842,\n",
       " 3.80729952309472,\n",
       " 3.0839126137067234,\n",
       " 2.4979692171024466,\n",
       " 2.0233550658529813,\n",
       " 1.6389176033409147,\n",
       " 1.3275232587061412,\n",
       " 1.0752938395519742,\n",
       " 0.8709880100370987,\n",
       " 0.7055002881300504,\n",
       " 0.5714552333853413,\n",
       " 0.4628787390421261,\n",
       " 0.37493177862412186,\n",
       " 0.3036947406855388,\n",
       " 0.24599273995528634,\n",
       " 0.19925411936378168,\n",
       " 0.16139583668466295,\n",
       " 0.130730627714577,\n",
       " 0.10589180844880713,\n",
       " 0.08577236484353393,\n",
       " 0.06947561552326226,\n",
       " 0.05627524857384226,\n",
       " 0.0455829513448123,\n",
       " 0.03692219058929786,\n",
       " 0.029906974377331176,\n",
       " 0.024224649245638254,\n",
       " 0.01962196588896696,\n",
       " 0.015893792370063126,\n",
       " 0.012873971819751213,\n",
       " 0.010427917173998555,\n",
       " 0.008446612910938798,\n",
       " 0.0068417564578604545,\n",
       " 0.005541822730866969,\n",
       " 0.00448887641200228,\n",
       " 0.0036359898937218895,\n",
       " 0.00294515181391475,\n",
       " 0.002385572969270991,\n",
       " 0.001932314105109487,\n",
       " 0.0015651744251386703,\n",
       " 0.0012677912843623482,\n",
       " 0.0010269109403334851,\n",
       " 0.0008317978616701228,\n",
       " 0.0006737562679528041,\n",
       " 0.0005457425770417713,\n",
       " 0.0004420514874038199,\n",
       " 0.00035806170479708063,\n",
       " 0.00029002998088563836,\n",
       " 0.00023492428451736978,\n",
       " 0.00019028867045907687,\n",
       " 0.00015413382307184786,\n",
       " 0.0001248483966882027,\n",
       " 0.00010112720131743705,\n",
       " 8.191303306711758e-05,\n",
       " 6.63495567843609e-05,\n",
       " 5.374314099533624e-05,\n",
       " 4.353194420622352e-05,\n",
       " 3.526087480704211e-05,\n",
       " 2.856130859370221e-05,\n",
       " 2.3134659960896227e-05,\n",
       " 1.8739074568325945e-05,\n",
       " 1.5178650400341246e-05,\n",
       " 1.229470682427641e-05,\n",
       " 9.958712527665013e-06,\n",
       " 8.06655714740967e-06,\n",
       " 6.5339112894022864e-06,\n",
       " 5.292468144416261e-06,\n",
       " 4.286899196978642e-06,\n",
       " 3.472388349553693e-06,\n",
       " 2.8126345631373e-06,\n",
       " 2.278233996141749e-06,\n",
       " 1.845369536875782e-06,\n",
       " 1.4947493248687319e-06,\n",
       " 1.2107469531446502e-06,\n",
       " 9.80705032046463e-07,\n",
       " 7.943710759574767e-07,\n",
       " 6.434405715255562e-07,\n",
       " 5.211868629357004e-07,\n",
       " 4.221613589780328e-07,\n",
       " 3.419507007716872e-07,\n",
       " 2.7698006762544057e-07,\n",
       " 2.2435385477652272e-07,\n",
       " 1.8172662236875622e-07,\n",
       " 1.4719856411841994e-07,\n",
       " 1.1923083693573615e-07]"
      ]
     },
     "execution_count": 10,
     "metadata": {},
     "output_type": "execute_result"
    }
   ],
   "source": [
    "error_list #error is reducing at very fast but atlast it is saturating"
   ]
  },
  {
   "cell_type": "code",
   "execution_count": 11,
   "metadata": {},
   "outputs": [
    {
     "data": {
      "image/png": "[encoded data removed]",
      "text/plain": [
       "<Figure size 432x288 with 1 Axes>"
      ]
     },
     "metadata": {
      "needs_background": "light"
     },
     "output_type": "display_data"
    }
   ],
   "source": [
    "#Loss Graph\n",
    "plt.plot(error_list)\n",
    "plt.xlabel(\"Iterations\")\n",
    "plt.ylabel(\"Loss value or Error\")\n",
    "plt.show()"
   ]
  },
  {
   "cell_type": "code",
   "execution_count": 12,
   "metadata": {},
   "outputs": [
    {
     "data": {
      "text/plain": [
       "[-6.7,\n",
       " -5.53,\n",
       " -4.477,\n",
       " -3.5293,\n",
       " -2.6763700000000004,\n",
       " -1.9087330000000002,\n",
       " -1.2178597000000002,\n",
       " -0.5960737300000002,\n",
       " -0.036466357000000116,\n",
       " 0.4671802786999999,\n",
       " 0.92046225083,\n",
       " 1.328416025747,\n",
       " 1.6955744231723,\n",
       " 2.02601698085507,\n",
       " 2.323415282769563,\n",
       " 2.591073754492607,\n",
       " 2.831966379043346,\n",
       " 3.0487697411390116,\n",
       " 3.2438927670251103,\n",
       " 3.419503490322599,\n",
       " 3.5775531412903394,\n",
       " 3.7197978271613055,\n",
       " 3.847818044445175,\n",
       " 3.9630362400006574,\n",
       " 4.066732616000592,\n",
       " 4.160059354400532,\n",
       " 4.244053418960479,\n",
       " 4.319648077064431,\n",
       " 4.387683269357988,\n",
       " 4.448914942422189,\n",
       " 4.504023448179971,\n",
       " 4.553621103361974,\n",
       " 4.598258993025777,\n",
       " 4.638433093723199,\n",
       " 4.6745897843508795,\n",
       " 4.707130805915791,\n",
       " 4.736417725324213,\n",
       " 4.762775952791792,\n",
       " 4.786498357512612,\n",
       " 4.807848521761351,\n",
       " 4.8270636695852165,\n",
       " 4.844357302626695,\n",
       " 4.859921572364025,\n",
       " 4.873929415127623,\n",
       " 4.886536473614861,\n",
       " 4.897882826253374,\n",
       " 4.908094543628037,\n",
       " 4.917285089265233,\n",
       " 4.92555658033871,\n",
       " 4.9330009223048386,\n",
       " 4.939700830074354,\n",
       " 4.945730747066919,\n",
       " 4.951157672360226,\n",
       " 4.956041905124204,\n",
       " 4.960437714611784,\n",
       " 4.964393943150605,\n",
       " 4.967954548835545,\n",
       " 4.97115909395199,\n",
       " 4.974043184556791,\n",
       " 4.976638866101112,\n",
       " 4.978974979491001,\n",
       " 4.981077481541901,\n",
       " 4.982969733387711,\n",
       " 4.98467276004894,\n",
       " 4.986205484044046,\n",
       " 4.987584935639641,\n",
       " 4.988826442075677,\n",
       " 4.98994379786811,\n",
       " 4.990949418081299,\n",
       " 4.991854476273169,\n",
       " 4.992669028645852,\n",
       " 4.993402125781267,\n",
       " 4.99406191320314,\n",
       " 4.994655721882826,\n",
       " 4.995190149694544,\n",
       " 4.9956711347250895,\n",
       " 4.996104021252581,\n",
       " 4.996493619127323,\n",
       " 4.99684425721459,\n",
       " 4.997159831493131,\n",
       " 4.997443848343818,\n",
       " 4.997699463509436,\n",
       " 4.997929517158492,\n",
       " 4.998136565442643,\n",
       " 4.998322908898379,\n",
       " 4.998490618008541,\n",
       " 4.998641556207686,\n",
       " 4.998777400586918,\n",
       " 4.998899660528226,\n",
       " 4.999009694475403,\n",
       " 4.999108725027863,\n",
       " 4.999197852525077,\n",
       " 4.999278067272569,\n",
       " 4.999350260545312,\n",
       " 4.999415234490781,\n",
       " 4.999473711041703,\n",
       " 4.999526339937533,\n",
       " 4.99957370594378,\n",
       " 4.999616335349402,\n",
       " 4.999654701814462]"
      ]
     },
     "execution_count": 12,
     "metadata": {},
     "output_type": "execute_result"
    }
   ],
   "source": [
    "x_list #stepwise coming colser to mininmum val of error func\n",
    "# reducing error "
   ]
  },
  {
   "cell_type": "code",
   "execution_count": 13,
   "metadata": {},
   "outputs": [
    {
     "data": {
      "image/png": "[encoded data removed]",
      "text/plain": [
       "<Figure size 432x288 with 1 Axes>"
      ]
     },
     "metadata": {
      "needs_background": "light"
     },
     "output_type": "display_data"
    }
   ],
   "source": [
    "plt.plot( X, err) # this is theta vs J(theta )\n",
    "plt.scatter(x_list, error_list) # \n",
    "plt.show()\n",
    "#taking larger step at first and then converges\n",
    "# so hence effective step size also decrrease \n",
    "# x=x- n d0(x)/dx is also decreasing with the same"
   ]
  },
  {
   "cell_type": "code",
   "execution_count": null,
   "metadata": {},
   "outputs": [],
   "source": []
  },
  {
   "cell_type": "code",
   "execution_count": null,
   "metadata": {},
   "outputs": [],
   "source": []
  }
 ],
 "metadata": {
  "kernelspec": {
   "display_name": "Python 3",
   "language": "python",
   "name": "python3"
  },
  "language_info": {
   "codemirror_mode": {
    "name": "ipython",
    "version": 3
   },
   "file_extension": ".py",
   "mimetype": "text/x-python",
   "name": "python",
   "nbconvert_exporter": "python",
   "pygments_lexer": "ipython3",
   "version": "3.8.5"
  }
 },
 "nbformat": 4,
 "nbformat_minor": 4
}
