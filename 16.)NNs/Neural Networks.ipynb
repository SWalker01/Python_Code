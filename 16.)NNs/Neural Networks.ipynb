{
 "cells": [
  {
   "cell_type": "markdown",
   "metadata": {},
   "source": [
    "### some prior knowledge"
   ]
  },
  {
   "cell_type": "markdown",
   "metadata": {},
   "source": [
    "![download1](https://user-images.githubusercontent.com/42711978/87786388-7d698a00-c857-11ea-8159-602300426108.png)\n"
   ]
  },
  {
   "cell_type": "markdown",
   "metadata": {},
   "source": [
    "![download](https://user-images.githubusercontent.com/42711978/87786503-a25dfd00-c857-11ea-980b-252de300d1d2.png)\n"
   ]
  },
  {
   "cell_type": "markdown",
   "metadata": {},
   "source": [
    "![download2](https://user-images.githubusercontent.com/42711978/87786537-b275dc80-c857-11ea-98be-3a3db39578c4.png)\n"
   ]
  },
  {
   "cell_type": "markdown",
   "metadata": {},
   "source": [
    "![main-qimg-326e7a77fb26214124957580ddf97517](https://user-images.githubusercontent.com/42711978/87786563-bf92cb80-c857-11ea-9819-26594f47e405.png)\n"
   ]
  },
  {
   "cell_type": "markdown",
   "metadata": {},
   "source": [
    "<img src=\"https://user-images.githubusercontent.com/42711978/87856932-2db2bd80-c940-11ea-8d79-7c59d0af7bb3.png\" width=\"500\" height=\"500\"/>"
   ]
  },
  {
   "cell_type": "code",
   "execution_count": null,
   "metadata": {},
   "outputs": [],
   "source": []
  }
 ],
 "metadata": {
  "kernelspec": {
   "display_name": "Python 3",
   "language": "python",
   "name": "python3"
  },
  "language_info": {
   "codemirror_mode": {
    "name": "ipython",
    "version": 3
   },
   "file_extension": ".py",
   "mimetype": "text/x-python",
   "name": "python",
   "nbconvert_exporter": "python",
   "pygments_lexer": "ipython3",
   "version": "3.8.3"
  }
 },
 "nbformat": 4,
 "nbformat_minor": 4
}
