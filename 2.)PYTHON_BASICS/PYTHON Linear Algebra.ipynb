{
 "cells": [
  {
   "cell_type": "markdown",
   "metadata": {},
   "source": [
    "[Adapted from]( https://github.com/hadrienj/deepLearningBook-Notes)\n",
    "\n"
   ]
  },
  {
   "cell_type": "markdown",
   "metadata": {},
   "source": [
    "In this notebook we cover some basics of Linear Algebra as seen in [Deep Learning](https://www.deeplearningbook.org/contents/linear_algebra.html) Book with a focus on using numpy"
   ]
  },
  {
   "cell_type": "markdown",
   "metadata": {},
   "source": [
    "# 1. Scalars & Vectors\n",
    "* Scalar is a single number, denoted as $x$\n",
    "* Vector is an array of scalars, denoted by $\\boldsymbol{x}$\n",
    "    Thus, a vector has $n$ scalars $x_1, x_2 \\cdots x_n$\n",
    "    Note that indexing here begins with 1, unlike python (where it begins with 0)\n",
    "    $$\n",
    "    \\boldsymbol{x} =\\begin{bmatrix}\n",
    "        x_1 \\\\\n",
    "        x_2 \\\\\n",
    "        \\cdots \\\\\n",
    "        x_n\n",
    "    \\end{bmatrix}\n",
    "    $$\n",
    "    Let us now look how we can create an array using numpy"
   ]
  },
  {
   "cell_type": "code",
   "execution_count": null,
   "metadata": {},
   "outputs": [],
   "source": []
  }
 ],
 "metadata": {
  "kernelspec": {
   "display_name": "Python 3",
   "language": "python",
   "name": "python3"
  },
  "language_info": {
   "codemirror_mode": {
    "name": "ipython",
    "version": 3
   },
   "file_extension": ".py",
   "mimetype": "text/x-python",
   "name": "python",
   "nbconvert_exporter": "python",
   "pygments_lexer": "ipython3",
   "version": "3.8.3"
  }
 },
 "nbformat": 4,
 "nbformat_minor": 4
}
