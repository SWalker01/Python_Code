{
 "cells": [
  {
   "cell_type": "markdown",
   "metadata": {},
   "source": [
    "[Adapted from]( https://github.com/hadrienj/deepLearningBook-Notes)\n",
    "\n"
   ]
  },
  {
   "cell_type": "markdown",
   "metadata": {},
   "source": [
    "In this notebook we cover some basics of Linear Algebra as seen in [Deep Learning](https://www.deeplearningbook.org/contents/linear_algebra.html) Book with a focus on using numpy"
   ]
  },
  {
   "cell_type": "markdown",
   "metadata": {},
   "source": [
    "# 1. Scalars & Vectors\n",
    "* Scalar is a single number, denoted as $x$\n",
    "* Vector is an array of scalars, denoted by $\\boldsymbol{x}$\n",
    "    Thus, a vector has $n$ scalars $x_1, x_2 \\cdots x_n$\n",
    "    Note that indexing here begins with 1, unlike python (where it begins with 0)\n",
    "    $$\n",
    "    \\boldsymbol{x} =\\begin{bmatrix}\n",
    "        x_1 \\\\\n",
    "        x_2 \\\\\n",
    "        \\cdots \\\\\n",
    "        x_n\n",
    "    \\end{bmatrix}\n",
    "    $$\n",
    "    Let us now look how we can create an array using numpy"
   ]
  },
  {
   "cell_type": "code",
   "execution_count": 2,
   "metadata": {},
   "outputs": [
    {
     "name": "stdout",
     "output_type": "stream",
     "text": [
      "[[4]\n",
      " [5]\n",
      " [6]]\n",
      "(3, 1)\n"
     ]
    }
   ],
   "source": [
    "import numpy as np\n",
    "\n",
    "\n",
    "x=np.array([[4],[5],[6]])\n",
    "\n",
    "\n",
    "print(x)\n",
    "print(x.shape)"
   ]
  },
  {
   "cell_type": "markdown",
   "metadata": {},
   "source": [
    "# 2. Matrices & Tensors\n",
    "Matrix is a 2D array of scalars, denoted by $\\boldsymbol{X}$$$\n",
    "\\boldsymbol{X}=\n",
    "\\begin{bmatrix}\n",
    "  X_{1,1} &amp; X_{1,2} &amp; \\cdots &amp; X_{1,n} \\\\\\\\\n",
    "  X_{2,1} &amp; X_{2,2} &amp; \\cdots &amp; X_{2,n} \\\\\\\\\n",
    "  \\cdots &amp; \\cdots &amp; \\cdots &amp; \\cdots \\\\\\\\\n",
    "  X_{m,1} &amp; X_{m,2} &amp; \\cdots &amp; X_{m,n}\n",
    "\\end{bmatrix}\n",
    "$$\n",
    "\n",
    "This matrix has $m$ rows and $n$ columns\n",
    "Each indvidual element such as $X_{1,1}$ is a scalar\n",
    "If $m = n$, the matrix is known as Square Matrix\n",
    "Tensor is an array with more than 2 axes, denoted as X\n",
    "Think of Tensor as a generalization of an array with more than 2 axes"
   ]
  },
  {
   "cell_type": "code",
   "execution_count": 5,
   "metadata": {},
   "outputs": [
    {
     "name": "stdout",
     "output_type": "stream",
     "text": [
      "[[ 6  8 15  5]\n",
      " [14  2  9 18]\n",
      " [13  2 15 11]]\n"
     ]
    },
    {
     "data": {
      "text/plain": [
       "(3, 4)"
      ]
     },
     "execution_count": 5,
     "metadata": {},
     "output_type": "execute_result"
    }
   ],
   "source": [
    "X=np.random.randint(1,20,size=(3,4))\n",
    "print(X)\n",
    "X.shape"
   ]
  },
  {
   "cell_type": "code",
   "execution_count": 6,
   "metadata": {},
   "outputs": [
    {
     "name": "stdout",
     "output_type": "stream",
     "text": [
      "[[ 6  8 15  5 14  2]\n",
      " [ 9 18 13  2 15 11]]\n"
     ]
    },
    {
     "data": {
      "text/plain": [
       "(2, 6)"
      ]
     },
     "execution_count": 6,
     "metadata": {},
     "output_type": "execute_result"
    }
   ],
   "source": [
    "X=X.reshape(2,6)\n",
    "print(X)\n",
    "X.shape"
   ]
  },
  {
   "cell_type": "code",
   "execution_count": 10,
   "metadata": {},
   "outputs": [
    {
     "data": {
      "image/png": "[encoded data removed]",
      "text/plain": [
       "<Figure size 432x288 with 1 Axes>"
      ]
     },
     "metadata": {
      "needs_background": "light"
     },
     "output_type": "display_data"
    }
   ],
   "source": [
    "T = np.zeros((50,25,3),dtype='uint8')\n",
    "T[ : , : ,:] = 255 #if we make it 0 we will see a image of black\n",
    "#if third channel is 0 then R ,1->G,2->B   T[ : , : ,this_channel]\n",
    "\n",
    "import matplotlib.pyplot as plt\n",
    "\n",
    "plt.imshow(T)\n",
    "plt.show()"
   ]
  },
  {
   "cell_type": "markdown",
   "metadata": {},
   "source": [
    "# 3. Transpose\n",
    "For a 2D matrix transpose can be obtained as follows $(A^T)_{i,j} = A_{j, i}$\n",
    "\n",
    "For a vector, transpose makes the column vector into a row. Thus a column vector can also be represented as $\\boldsymbol{x} = [x_1, x_2, x_3]^T$"
   ]
  },
  {
   "cell_type": "code",
   "execution_count": 18,
   "metadata": {},
   "outputs": [
    {
     "name": "stdout",
     "output_type": "stream",
     "text": [
      "(50, 25, 3)\n",
      "(3, 25, 50)\n",
      "(50, 25, 3)\n"
     ]
    }
   ],
   "source": [
    "print(T.shape)\n",
    "x=T.T\n",
    "# plt.imshow(T.T) we cant display it \n",
    "print(x.shape)\n",
    "c=x.T\n",
    "print(c.shape) #it just reverse it "
   ]
  },
  {
   "cell_type": "code",
   "execution_count": 19,
   "metadata": {},
   "outputs": [
    {
     "name": "stdout",
     "output_type": "stream",
     "text": [
      "[[ 6  8 15  5]\n",
      " [14  2  9 18]\n",
      " [13  2 15 11]]\n",
      "[[ 6 14 13]\n",
      " [ 8  2  2]\n",
      " [15  9 15]\n",
      " [ 5 18 11]]\n"
     ]
    }
   ],
   "source": [
    "#we can also use Numpy transpose function\n",
    "X = X.reshape((3,4))\n",
    "print(X)\n",
    "\n",
    "print(X.T)"
   ]
  },
  {
   "cell_type": "code",
   "execution_count": 20,
   "metadata": {},
   "outputs": [
    {
     "name": "stdout",
     "output_type": "stream",
     "text": [
      "(50, 25, 3)\n",
      "(3, 50, 25)\n",
      "(3,)\n",
      "(25,)\n"
     ]
    }
   ],
   "source": [
    "# Transpose of Tensor\n",
    "T.shape\n",
    "\n",
    "#print(T[0][0])\n",
    "print(T.shape)\n",
    "T1 = np.transpose(T,axes=(2,0,1)) \n",
    "#here we can use parameter axes to tell what we want to change\n",
    "print(T1.shape)\n",
    "\n",
    "print(T[0][0].shape)\n",
    "print(T1[0][0].shape)"
   ]
  },
  {
   "cell_type": "markdown",
   "metadata": {},
   "source": [
    "# 4. Broadcasting\n",
    "You can add a scalar to a vector, and numpy will add it to each element in the vector\n",
    "\n",
    "$\\boldsymbol{x} + a = \\boldsymbol{x}_i + a$\n",
    "\n",
    "\n",
    "Similarly you can add a vector to a matrix, and numpy will add the vector to each column of the matrix"
   ]
  },
  {
   "cell_type": "code",
   "execution_count": 21,
   "metadata": {},
   "outputs": [
    {
     "name": "stdout",
     "output_type": "stream",
     "text": [
      "[1 2 3 4]\n",
      "[5 6 7 8]\n"
     ]
    }
   ],
   "source": [
    "x = np.array([1,2,3,4]) \n",
    "print(x)\n",
    "print(x+4) "
   ]
  },
  {
   "cell_type": "code",
   "execution_count": 22,
   "metadata": {},
   "outputs": [
    {
     "name": "stdout",
     "output_type": "stream",
     "text": [
      "[[10 20 30 40]\n",
      " [40 50 60 70]]\n",
      "[[11 22 33 44]\n",
      " [41 52 63 74]]\n"
     ]
    }
   ],
   "source": [
    "X = np.array([[10,20,30,40],\n",
    "             [40,50,60,70]]) \n",
    "\n",
    "print(X)\n",
    "print(X + x)"
   ]
  },
  {
   "cell_type": "markdown",
   "metadata": {},
   "source": [
    "# 5. Matrix Multiplication\n",
    "This is perhaps one operation that you would use quite frequently in any ML/DL model. You should remember a few things about multiplication\n",
    "\n",
    "$\\boldsymbol{C} = \\boldsymbol{A} \\boldsymbol{B}$ is only defined when the second dimension of $\\boldsymbol{A}$ matches the first dimension of $\\boldsymbol{B}$\n",
    "Further, if $\\boldsymbol{A}$ is of shape (m, n) and $\\boldsymbol{B}$ of shape (n, p), then $\\boldsymbol{C}$ is of shape (m, p)\n",
    "This operation is concretely defined as $C_{i,j} = \\sum_k A_{i, k} B_{k, j}$\n",
    "\n",
    "$\\boldsymbol{C}_{i, j}$ is computed by taking the dot product of $i$-th row of $\\boldsymbol{A}$ with $j$-th column of $\\boldsymbol{B}$\n",
    "A more useful method to think of matrix multiplcation is as linear combination of columns of $\\boldsymbol{A}$ weighted by column entries of $\\boldsymbol{B}$\n",
    "Matrix Multiplication\n",
    "\n",
    "Matrix Multiplication. Image Credit: https://www.mpcm.org/visualizing-matrix-multiplication-as-a-linear-combination-eli-benderskys-website/"
   ]
  },
  {
   "cell_type": "code",
   "execution_count": 3,
   "metadata": {},
   "outputs": [
    {
     "name": "stdout",
     "output_type": "stream",
     "text": [
      "[[ 6  6]\n",
      " [12 14]]\n"
     ]
    }
   ],
   "source": [
    "\n",
    "A = np.array([[1,2],\n",
    "              [3,4]])\n",
    "\n",
    "B = np.array([[0,2],\n",
    "              [3,2]])\n",
    "\n",
    "C = np.dot(A,B)\n",
    "print(C)"
   ]
  },
  {
   "cell_type": "markdown",
   "metadata": {},
   "source": [
    "# 6. Element Wise multiplication: Hadamard product\n",
    "Element wise multiplication $\\boldsymbol{A} \\odot \\boldsymbol{B}$\n",
    "\n",
    "Notice how numpy uses the * for this. Important to be careful, and not to confuse this with matrix multiplication"
   ]
  },
  {
   "cell_type": "code",
   "execution_count": 5,
   "metadata": {},
   "outputs": [
    {
     "data": {
      "text/plain": [
       "array([[0, 4],\n",
       "       [9, 8]])"
      ]
     },
     "execution_count": 5,
     "metadata": {},
     "output_type": "execute_result"
    }
   ],
   "source": [
    "A = np.array([[1,2],\n",
    "              [3,4]])\n",
    "\n",
    "B = np.array([[0,2],\n",
    "              [3,2]])\n",
    "\n",
    "A*B"
   ]
  },
  {
   "cell_type": "markdown",
   "metadata": {},
   "source": [
    "# 7. Norms\n",
    "Norm can be thought of as a proxy for size of a vector.\n",
    "\n",
    "We define $L^p$ norm $\\Vert \\boldsymbol{x}\\Vert _p = (\\sum |\\boldsymbol{x}_i|^{p})^{\\frac{1}{p}}$\n",
    "\n",
    "$p \\ge 1, p \\in \\Re$\n",
    "\n",
    "Norm is a function that maps vectors to non-negative values. A norm satisfies the following properties:\n",
    "$f(\\boldsymbol{x}) = 0 =&gt;  \\boldsymbol{x} = 0$\n",
    "$f(\\boldsymbol{x} + \\boldsymbol{y}) \\le f(\\boldsymbol{x}) + f(\\boldsymbol{y})$ (Triangle inequality)\n",
    "$\\forall \\ \\alpha \\in \\Re, \\ f(\\alpha \\ \\boldsymbol{x}) = |\\alpha|\\ f(\\boldsymbol{x})$\n",
    "$L^2$ norm is called the Euclidean norm, often $\\Vert \\boldsymbol{x} \\Vert$\n",
    "\n",
    "We work mostly with squared $L^2$ norm which can be computed as $\\boldsymbol{x}^T \\boldsymbol{x}$\n",
    "\n",
    "Squared $L^2$ norm is easier to work with as its derivative is $2 * \\boldsymbol{x}$\n",
    "\n",
    "In some ML applications it is important to distinguish between elements that are zero and small but zero. Squared $L^2$ norm may not be the right choice as it grows very slowly near the origin\n",
    "\n",
    "$L^1$ norm is the absolute sum of all members of a vector\n",
    "\n",
    "Useful when difference between 0 and non-zero elements is essential.\n",
    "Max-Norm: $L^\\infty$: This simplifies to absoute value of the element with highest magnitude"
   ]
  },
  {
   "cell_type": "code",
   "execution_count": 7,
   "metadata": {},
   "outputs": [
    {
     "name": "stdout",
     "output_type": "stream",
     "text": [
      "5.0\n",
      "7.0\n",
      "4.0\n"
     ]
    }
   ],
   "source": [
    "x = np.array([-3,4])\n",
    "\n",
    "lp2 = np.linalg.norm(x)\n",
    "print(lp2)\n",
    "\n",
    "lp1 = np.linalg.norm(x,ord=1)\n",
    "print(lp1)\n",
    "\n",
    "lpinf = np.linalg.norm(x,ord=np.inf)\n",
    "print(lpinf)"
   ]
  },
  {
   "cell_type": "markdown",
   "metadata": {},
   "source": [
    "# 7. Norms\n",
    "Norm can be thought of as a proxy for size of a vector.\n",
    "\n",
    "We define $L^p$ norm $\\Vert \\boldsymbol{x}\\Vert _p = (\\sum |\\boldsymbol{x}_i|^{p})^{\\frac{1}{p}}$\n",
    "\n",
    "$p \\ge 1, p \\in \\Re$\n",
    "\n",
    "Norm is a function that maps vectors to non-negative values. A norm satisfies the following properties:\n",
    "$f(\\boldsymbol{x}) = 0 =&gt;  \\boldsymbol{x} = 0$\n",
    "$f(\\boldsymbol{x} + \\boldsymbol{y}) \\le f(\\boldsymbol{x}) + f(\\boldsymbol{y})$ (Triangle inequality)\n",
    "$\\forall \\ \\alpha \\in \\Re, \\ f(\\alpha \\ \\boldsymbol{x}) = |\\alpha|\\ f(\\boldsymbol{x})$\n",
    "$L^2$ norm is called the Euclidean norm, often $\\Vert \\boldsymbol{x} \\Vert$\n",
    "\n",
    "We work mostly with squared $L^2$ norm which can be computed as $\\boldsymbol{x}^T \\boldsymbol{x}$\n",
    "\n",
    "Squared $L^2$ norm is easier to work with as its derivative is $2 * \\boldsymbol{x}$\n",
    "\n",
    "In some ML applications it is important to distinguish between elements that are zero and small but zero. Squared $L^2$ norm may not be the right choice as it grows very slowly near the origin\n",
    "\n",
    "$L^1$ norm is the absolute sum of all members of a vector\n",
    "\n",
    "Useful when difference between 0 and non-zero elements is essential.\n",
    "Max-Norm: $L^\\infty$: This simplifies to absoute value of the element with highest magnitude"
   ]
  },
  {
   "cell_type": "markdown",
   "metadata": {},
   "source": [
    "https://numpy.org/doc/stable/reference/routines.linalg.html"
   ]
  },
  {
   "cell_type": "code",
   "execution_count": 8,
   "metadata": {},
   "outputs": [
    {
     "name": "stdout",
     "output_type": "stream",
     "text": [
      "5.0\n",
      "7.0\n",
      "4.0\n"
     ]
    }
   ],
   "source": [
    "x = np.array([-3,4])\n",
    "lp2 = np.linalg.norm(x)\n",
    "print(lp2)\n",
    "\n",
    "lp1 = np.linalg.norm(x,ord=1)\n",
    "print(lp1)\n",
    "\n",
    "lpinf = np.linalg.norm(x,ord=np.inf)\n",
    "print(lpinf)"
   ]
  },
  {
   "cell_type": "markdown",
   "metadata": {},
   "source": [
    "# 8. Determinants\n",
    "More Operations on Matrices - https://numpy.org/doc/stable/reference/routines.linalg.html"
   ]
  },
  {
   "cell_type": "code",
   "execution_count": 13,
   "metadata": {},
   "outputs": [
    {
     "data": {
      "text/plain": [
       "-2.0000000000000004"
      ]
     },
     "execution_count": 13,
     "metadata": {},
     "output_type": "execute_result"
    }
   ],
   "source": [
    "A = np.array([[1,2],\n",
    "              [3,4]])\n",
    "\n",
    "\n",
    "np.linalg.det(A)"
   ]
  },
  {
   "cell_type": "code",
   "execution_count": null,
   "metadata": {},
   "outputs": [],
   "source": []
  },
  {
   "cell_type": "markdown",
   "metadata": {},
   "source": [
    "# 9. Inverse"
   ]
  },
  {
   "cell_type": "code",
   "execution_count": 12,
   "metadata": {},
   "outputs": [
    {
     "name": "stdout",
     "output_type": "stream",
     "text": [
      "[[-2.   1. ]\n",
      " [ 1.5 -0.5]]\n",
      "[[-2.   1. ]\n",
      " [ 1.5 -0.5]]\n"
     ]
    }
   ],
   "source": [
    "A = np.array([[1,2],\n",
    "              [3,4]])\n",
    "Ainv = np.linalg.inv(A)\n",
    "\n",
    "print(Ainv)\n",
    "\n",
    "          \n",
    "pinv = np.linalg.pinv(A)\n",
    "print(pinv)"
   ]
  },
  {
   "cell_type": "code",
   "execution_count": null,
   "metadata": {},
   "outputs": [],
   "source": []
  },
  {
   "cell_type": "markdown",
   "metadata": {},
   "source": [
    "# 10. Solve a System of Equations\n",
    "https://numpy.org/doc/stable/reference/generated/numpy.linalg.solve.html#numpy.linalg.solve"
   ]
  },
  {
   "cell_type": "code",
   "execution_count": 14,
   "metadata": {},
   "outputs": [],
   "source": [
    "a = np.array([[2,3], [3,1]])\n",
    "b = np.array([8,5])"
   ]
  },
  {
   "cell_type": "code",
   "execution_count": 15,
   "metadata": {},
   "outputs": [
    {
     "data": {
      "text/plain": [
       "array([1., 2.])"
      ]
     },
     "execution_count": 15,
     "metadata": {},
     "output_type": "execute_result"
    }
   ],
   "source": [
    "np.linalg.solve(a,b)\n"
   ]
  },
  {
   "cell_type": "markdown",
   "metadata": {},
   "source": [
    "[see this](https://github.com/coding-blocks-archives/machine-learning-online-2018/blob/master/2.%20Working%20with%20Libraries/linear_algebra-start.ipynb)"
   ]
  },
  {
   "cell_type": "code",
   "execution_count": null,
   "metadata": {},
   "outputs": [],
   "source": []
  }
 ],
 "metadata": {
  "kernelspec": {
   "display_name": "Python 3",
   "language": "python",
   "name": "python3"
  },
  "language_info": {
   "codemirror_mode": {
    "name": "ipython",
    "version": 3
   },
   "file_extension": ".py",
   "mimetype": "text/x-python",
   "name": "python",
   "nbconvert_exporter": "python",
   "pygments_lexer": "ipython3",
   "version": "3.8.3"
  }
 },
 "nbformat": 4,
 "nbformat_minor": 4
}
