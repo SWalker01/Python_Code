{
 "cells": [
  {
   "cell_type": "code",
   "execution_count": null,
   "metadata": {},
   "outputs": [],
   "source": [
    "import cv2\n",
    "\n",
    "cam=cv2.VideoCapture(0)\n",
    "\n",
    "#intialising Cascade Classifier with fileName\n",
    "eyes_cascade=cv2.CascadeClassifier(\"frontalEyes35x16.xml\")\n",
    "nose_cascade=cv2.CascadeClassifier(\"Nose18x15.xml\")\n",
    "face_cascade = cv2.CascadeClassifier(\"haarcascade_frontalface_alt.xml\") \n",
    "#see where your file is ?? see ternminal u are running ur python code\n",
    "\n",
    "\n",
    "\n",
    "while True:\n",
    "    ret, frame = cam.read() #Status-->True/False #Frame\n",
    "    \n",
    "    if not ret:\n",
    "        continue\n",
    "    #(Detecting) Find all the faces in the frame\n",
    "    gray_frame = cv2.cvtColor(frame, cv2.COLOR_BGR2GRAY) # bgr -> grayscale conversion\n",
    "    faces = face_cascade.detectMultiScale(gray_frame, 1.3, 5)\n",
    "    eyes=eyes_cascade.detectMultiScale(gray_frame, 1.3, 5)\n",
    "    nose=nose_cascade.detectMultiScale(gray_frame,1.5,5)\n",
    "    #faces = face_cascade.detectMultiScale(frame, 1.3, 5) # Frame, Scaling Factor, Neighbors\n",
    "    \n",
    "    \n",
    "    \n",
    "#     for face in faces:\n",
    "#         x,y,w,h=face #Tuple unpack\n",
    "        \n",
    "#         #Drawing rectangle boundary\n",
    "#         cv2.rectangle(frame,(x,y),(x+w,y+h),(0,255,0),2)\n",
    "#         #  Frame, Start, End, Color,Thickness\n",
    "        \n",
    "#         face_only=frame[y:y+h,x:x+w]\n",
    "#         cv2.imshow(\"Face Selection\", face_only)\n",
    "\n",
    "\n",
    "for eye in eyes:\n",
    "    xe,ye,we,he=eye\n",
    "    cv2.rectangle(frame,(xe,ye),(xe+we,ye+he),(0,255,0),2)\n",
    "    specs=cv2.imread(\"glasses.png\",-1)\n",
    "    specs=cv2.resize(specs,(we,he))\n",
    "    \n",
    "    for i in range(specs.shape[0]):\n",
    "        for j in range(specs.shape[1]):\n",
    "            if (specs[i,j,3]>0):\n",
    "                frame[ye+i,xe+j,:]=specs[i,j,:-1]\n",
    "    \n",
    "    \n",
    "        \n",
    "    cv2.imshow(\"Feed\", frame)\n",
    "    key = cv2.waitKey(1)\n",
    "    if key==ord(\"q\"):\n",
    "        break\n",
    "cam.release()\n",
    "cv2.destroyAllWindows()\n",
    "\n",
    "    \n",
    " \n"
   ]
  },
  {
   "cell_type": "code",
   "execution_count": null,
   "metadata": {},
   "outputs": [],
   "source": []
  }
 ],
 "metadata": {
  "kernelspec": {
   "display_name": "Python 3",
   "language": "python",
   "name": "python3"
  },
  "language_info": {
   "codemirror_mode": {
    "name": "ipython",
    "version": 3
   },
   "file_extension": ".py",
   "mimetype": "text/x-python",
   "name": "python",
   "nbconvert_exporter": "python",
   "pygments_lexer": "ipython3",
   "version": "3.8.3"
  }
 },
 "nbformat": 4,
 "nbformat_minor": 4
}