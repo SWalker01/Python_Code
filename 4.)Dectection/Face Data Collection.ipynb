{
 "cells": [
  {
   "cell_type": "code",
   "execution_count": null,
   "metadata": {},
   "outputs": [],
   "source": [
    "import cv2\n",
    "import numpy as np"
   ]
  },
  {
   "cell_type": "code",
   "execution_count": null,
   "metadata": {},
   "outputs": [],
   "source": [
    "cam =cv2.VideoCapture(0) #intailising cam\n",
    "\n",
    "face_cascade=cv2.CascadeClassifier(\"haarcascade_frontalface_alt.xml\")\n",
    "\n",
    "face_data=[] #empty list for storing data (faces)\n",
    "\n",
    "dataset_path=\"./data\" #all the faces will be stored here\n",
    "\n",
    "# import os\n",
    "# os.mkdir(\"data\") #for creating folder \n",
    "\n",
    "cv2.__version__\n",
    "\n",
    "\n",
    "while True:\n",
    "        ret, frame = cam.read()\n",
    "        if ret == False:\n",
    "            continue\n",
    "        gray_frame = cv2.cvtColor(frame, cv2.COLOR_BGR2GRAY) # bgr -> grayscale conversion\n",
    "        faces = face_cascade.detectMultiScale(gray_frame, 1.3, 5)\n",
    "        for face in faces:\n",
    "            x, y, w, h = face\n",
    "\n",
    "            cv2.rectangle(frame, (x,y), (x+w, y+h), (255, 0, 0), 2)\n",
    "        cv2.imshow(\"window\", frame)\n",
    "        key = cv2.waitKey(1) #1ms wait by waitkey function\n",
    "        if key == ord(\"q\"):\n",
    "            break\n",
    "\n",
    "cam.release()#Closes video file or capturing device.\n",
    "cv2.destroyAllWindows()\n",
    "\n"
   ]
  },
  {
   "cell_type": "code",
   "execution_count": null,
   "metadata": {},
   "outputs": [],
   "source": [
    "#https://opencv-python-tutroals.readthedocs.io/en/latest/py_tutorials/py_objdetect/py_face_detection/py_face_detection.html\n"
   ]
  },
  {
   "cell_type": "code",
   "execution_count": null,
   "metadata": {},
   "outputs": [],
   "source": [
    "import cv2\n",
    "\n",
    "cam=cv2.VideoCapture(0)\n",
    "\n",
    "#intialising Cascade Classifier with fileName\n",
    "face_cascade = cv2.CascadeClassifier(\"haarcascade_frontalface_alt.xml\") \n",
    "#see where your file is ??\n",
    "\n",
    "while True:\n",
    "    ret, frame = cam.read() #Status-->True/False #Frame\n",
    "    \n",
    "    if not ret:\n",
    "        continue\n",
    "    #(Detecting) Find all the faces in the frame\n",
    "    gray_frame = cv2.cvtColor(frame, cv2.COLOR_BGR2GRAY) # bgr -> grayscale conversion\n",
    "    faces = face_cascade.detectMultiScale(gray_frame, 1.3, 5)\n",
    "    #faces = face_cascade.detectMultiScale(frame, 1.3, 5) # Frame, Scaling Factor, Neighbors\n",
    "    \n",
    "    \n",
    "    \n",
    "    for face in faces:\n",
    "        x,y,w,h=face #Tuple unpack\n",
    "        \n",
    "        #Drawing rectangle boundary\n",
    "        cv2.rectangle(frame,(x,y),(x+w,y+h),(0,255,0),2)\n",
    "        #  Frame, Start, End, Color,Thickness\n",
    "        \n",
    "#         face_only=frame[y:y+h,x:x+w]\n",
    "#         cv2.imshow(\"Face Selection\", face_only)\n",
    "        \n",
    "    cv2.imshow(\"Feed\", frame)\n",
    "    key = cv2.waitKey(1)\n",
    "    if key==ord(\"q\"):\n",
    "        break\n",
    "cam.release()\n",
    "cv2.destroyAllWindows()\n",
    "\n",
    "    \n",
    " \n"
   ]
  },
  {
   "cell_type": "code",
   "execution_count": null,
   "metadata": {},
   "outputs": [],
   "source": []
  }
 ],
 "metadata": {
  "kernelspec": {
   "display_name": "Python 3",
   "language": "python",
   "name": "python3"
  },
  "language_info": {
   "codemirror_mode": {
    "name": "ipython",
    "version": 3
   },
   "file_extension": ".py",
   "mimetype": "text/x-python",
   "name": "python",
   "nbconvert_exporter": "python",
   "pygments_lexer": "ipython3",
   "version": "3.7.6"
  }
 },
 "nbformat": 4,
 "nbformat_minor": 4
}
