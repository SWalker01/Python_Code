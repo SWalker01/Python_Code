{
 "cells": [
  {
   "cell_type": "code",
   "execution_count": 1,
   "metadata": {},
   "outputs": [],
   "source": [
    "import cv2\n",
    "#Each video is of series of Frame\n",
    "cam = cv2.VideoCapture(0)#cv2.VideoCapture(\"./video.mp4\")#cam =cv2.VideoCapture(\"path\")\n",
    "#https://github.com/opencv/opencv/tree/master/data/haarcascades\n",
    "\n",
    "model = cv2.CascadeClassifier(\"./haarcascade_frontalface_alt.xml\")\n",
    "smile=cv2.CascadeClassifier(\"./haarcascade_smile.xml\")\n",
    "\n",
    "while True:\n",
    "        ret, frame = cam.read()\n",
    "        if ret == True:\n",
    "            gray_frame = cv2.cvtColor(frame, cv2.COLOR_BGR2GRAY) # bgr -> grayscale conversion\n",
    "            faces = model.detectMultiScale(gray_frame, 1.3, 5)\n",
    "            smiles=smile.detectMultiScale(gray_frame,1.3,25)\n",
    "            #detectMultiScale(gray_frame, 1.3, 0) it has 2 parameter \n",
    "            #scaling factor and no. of neighbors\n",
    "            for face in faces:\n",
    "                x, y, w, h = face\n",
    "\n",
    "                cv2.rectangle(frame, (x,y), (x+w, y+h), (255, 0, 0), 2)\n",
    "\n",
    "            for s in smiles:\n",
    "                x,y,w,h =s\n",
    "\n",
    "                cv2.rectangle(frame,(x,y),(x+w,y+h),(0,0,255),2)\t\n",
    "            cv2.imshow(\"window\", frame)\n",
    "            key = cv2.waitKey(1) #1ms wait by waitkey function\n",
    "            if key == ord(\"q\"):\n",
    "                break\n",
    "\n",
    "cam.release()\n",
    "cv2.destroyAllWindows()"
   ]
  },
  {
   "cell_type": "code",
   "execution_count": null,
   "metadata": {},
   "outputs": [],
   "source": []
  }
 ],
 "metadata": {
  "kernelspec": {
   "display_name": "Python 3",
   "language": "python",
   "name": "python3"
  },
  "language_info": {
   "codemirror_mode": {
    "name": "ipython",
    "version": 3
   },
   "file_extension": ".py",
   "mimetype": "text/x-python",
   "name": "python",
   "nbconvert_exporter": "python",
   "pygments_lexer": "ipython3",
   "version": "3.8.3"
  }
 },
 "nbformat": 4,
 "nbformat_minor": 4
}
